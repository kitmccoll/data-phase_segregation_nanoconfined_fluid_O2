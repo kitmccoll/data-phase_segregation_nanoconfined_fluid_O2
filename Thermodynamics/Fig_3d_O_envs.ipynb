{
 "cells": [
  {
   "cell_type": "code",
   "execution_count": 13,
   "metadata": {},
   "outputs": [],
   "source": [
    "# import the modules we need. \n",
    "\n",
    "from pymatgen import Structure\n",
    "import numpy as np\n",
    "\n",
    "# polyhedral analysis: (https://github.com/bjmorgan/polyhedral-analysis/tree/main)\n",
    "from polyhedral_analysis.configuration import Configuration\n",
    "from polyhedral_analysis.octahedral_analysis import *\n",
    "from polyhedral_analysis.polyhedra_recipe import PolyhedraRecipe\n",
    "\n",
    "import matplotlib.pyplot as plt\n",
    "import matplotlib.style as style\n",
    "%matplotlib inline\n",
    "%config InlineBackend.figure_format = 'retina'\n",
    "plt.rcParams[\"font.family\"] = \"Helvetica\"\n",
    "plt.rcParams[\"mathtext.fontset\"] ='custom'\n",
    "plt.rcParams['mathtext.rm'] = 'Helvetica'\n",
    "plt.rcParams['mathtext.it'] = 'Helvetica:italic'\n",
    "plt.rcParams['mathtext.bf'] = 'Helvetica'\n",
    "plt.rcParams[\"font.size\"] = \"6\"\n",
    "plt.rcParams['axes.linewidth'] = 0.75\n",
    "plt.rcParams['lines.linewidth'] = 0.75\n",
    "plt.rcParams['lines.markersize'] = 4"
   ]
  },
  {
   "cell_type": "code",
   "execution_count": 14,
   "metadata": {},
   "outputs": [],
   "source": [
    "# import the annealed low-energy Mn0.8O2 structure from the CE + MC simulations as s, \n",
    "# and the 'pristine-delithiated' structure (ribbon-superstructure, with Li removed)\n",
    "\n",
    "path = \"../Data/Data_thermodynamics/\"\n",
    "\n",
    "s = Structure.from_file(filename=f'{path}/Mn0.4O_n48000_MC.cif')\n",
    "pristine_delith = Structure.from_file(filename=f'{path}/pristine_delithiated.cif')\n"
   ]
  },
  {
   "cell_type": "code",
   "execution_count": 15,
   "metadata": {},
   "outputs": [],
   "source": [
    "# here we use polyhedral_analysis to analyse the coordination around each O atom to Mn\n",
    "# up to a cutoff radius of 2.5 Å\n",
    "recipe_O_Mn = PolyhedraRecipe( method='distance cutoff', \n",
    "                          coordination_cutoff=2.5, \n",
    "                          central_atoms='O',\n",
    "                          vertex_atoms=['Mn'])"
   ]
  },
  {
   "cell_type": "code",
   "execution_count": 16,
   "metadata": {},
   "outputs": [
    {
     "name": "stdout",
     "output_type": "stream",
     "text": [
      "[0.1187037037037037, 0.13666666666666666, 0.2364814814814815, 0.37222222222222223, 0.11203703703703703, 0.021296296296296296, 0.0025925925925925925]\n",
      "[0.0, 0.0, 0.6, 0.4, 0.0, 0.0, 0.0]\n"
     ]
    }
   ],
   "source": [
    "# Define a function that takes a pymatgen structure object and returns a list of the \n",
    "# fractional content of O–Mn_x polyhedra, where x = 0, 1, ... 6.\n",
    "\n",
    "def get_O_envs(structure):\n",
    "    \n",
    "    # some empty lists to add our polyhedra to\n",
    "    Mn0 = []\n",
    "    Mn1 = []\n",
    "    Mn2 = []\n",
    "    Mn3 = []\n",
    "    Mn4 = []\n",
    "    Mn5 = []\n",
    "    Mn6 = []\n",
    "\n",
    "    # cycle through all the O polyhedra, and add them to the lists based on the number \n",
    "    # of Mn neighbours each central O atom has \n",
    "    config = Configuration( structure=structure, recipes=[recipe_O_Mn] )\n",
    "    for p in config.polyhedra:\n",
    "        if p.vertex_labels.count('Mn') == 0:\n",
    "            Mn0.append(p)\n",
    "        if p.vertex_labels.count('Mn') == 1:\n",
    "            Mn1.append(p)   \n",
    "        if p.vertex_labels.count('Mn') == 2:\n",
    "            Mn2.append(p)  \n",
    "        if p.vertex_labels.count('Mn') == 3:\n",
    "            Mn3.append(p)\n",
    "        if p.vertex_labels.count('Mn') == 4:\n",
    "            Mn4.append(p)\n",
    "        if p.vertex_labels.count('Mn') == 5:\n",
    "            Mn5.append(p)\n",
    "        if p.vertex_labels.count('Mn') == 6:\n",
    "            Mn6.append(p)\n",
    "\n",
    "    # total up, return fractions\n",
    "    tot = len(Mn0)+len(Mn1)+len(Mn2)+len(Mn3)+len(Mn4)+len(Mn5)+len(Mn6)\n",
    "    O_envs_frac = [len(Mn0)/tot,\n",
    "                   len(Mn1)/tot,\n",
    "                   len(Mn2)/tot,\n",
    "                   len(Mn3)/tot,\n",
    "                   len(Mn4)/tot,\n",
    "                   len(Mn5)/tot,\n",
    "                   len(Mn6)/tot]\n",
    "    print(O_envs_frac)\n",
    "    return O_envs_frac\n",
    "\n",
    "\n",
    "O_envs_MC = get_O_envs(s)\n",
    "O_envs_pristine_delith = get_O_envs(pristine_delith)"
   ]
  },
  {
   "cell_type": "code",
   "execution_count": 17,
   "metadata": {},
   "outputs": [
    {
     "data": {
      "image/png": "[encoded data removed]",
      "text/plain": [
       "<Figure size 86.4x108 with 2 Axes>"
      ]
     },
     "metadata": {
      "image/png": {
       "height": 147,
       "width": 117
      },
      "needs_background": "light"
     },
     "output_type": "display_data"
    }
   ],
   "source": [
    "fig, axes = plt.subplots(nrows = 2, ncols = 1, figsize=(1.2, 1.5))\n",
    "\n",
    "a = axes[0]\n",
    "b = axes[1]\n",
    "\n",
    "bar_colors = ['black','tab:blue','tab:orange','tab:green','tab:red', 'tab:purple',\n",
    "              'tab:brown']\n",
    "\n",
    "x = ['0','1','2','3','4','5','6']\n",
    "\n",
    "N= len(x)\n",
    "ind = np.arange(N) \n",
    "width = 0.5\n",
    "linewidth = 0.75\n",
    "\n",
    "a.bar(ind , O_envs_pristine_delith , width, color=bar_colors, alpha=0.65, edgecolor='k', linewidth = linewidth)\n",
    "b.bar(ind , O_envs_MC , width, color=bar_colors, alpha=0.65, edgecolor='k', linewidth = linewidth)\n",
    "\n",
    "b.set_xticks(ind)\n",
    "\n",
    "b.set_xticklabels(x)\n",
    "\n",
    "left_axes = [a, b]\n",
    "for axis in left_axes:\n",
    "    axis.set_yticks([])\n",
    "    axis.set_ylim([0, 0.7])\n",
    "    axis.set_ylabel('fractions')\n",
    "    axis.set_yticks([0,0.2,0.4,0.6])\n",
    "    \n",
    "a.set_xticks([])\n",
    "b.set_xlabel('O–($X$,Li)$_{6-x}$Mn$_x$ octahedra')\n",
    "\n",
    "\n",
    "fig.subplots_adjust(bottom=0.0, top=1.0, left=0.0, right=0.9,\n",
    "                    wspace=0.2, hspace=0.075)\n",
    "\n",
    "#plt.savefig('Fig_3d_O_envs.svg', dpi=300, bbox_inches='tight')"
   ]
  },
  {
   "cell_type": "code",
   "execution_count": null,
   "metadata": {},
   "outputs": [],
   "source": []
  },
  {
   "cell_type": "code",
   "execution_count": null,
   "metadata": {},
   "outputs": [],
   "source": []
  },
  {
   "cell_type": "code",
   "execution_count": null,
   "metadata": {},
   "outputs": [],
   "source": []
  }
 ],
 "metadata": {
  "kernelspec": {
   "display_name": "Python 3",
   "language": "python",
   "name": "python3"
  },
  "language_info": {
   "codemirror_mode": {
    "name": "ipython",
    "version": 3
   },
   "file_extension": ".py",
   "mimetype": "text/x-python",
   "name": "python",
   "nbconvert_exporter": "python",
   "pygments_lexer": "ipython3",
   "version": "3.7.4"
  }
 },
 "nbformat": 4,
 "nbformat_minor": 2
}
