{
 "cells": [
  {
   "cell_type": "code",
   "execution_count": 39,
   "metadata": {},
   "outputs": [],
   "source": [
    "import ase\n",
    "from ase import Atoms\n",
    "import numpy as np\n",
    "import json\n",
    "from icet.tools import ConvexHull\n",
    "\n",
    "import matplotlib.pyplot as plt\n",
    "import matplotlib.style as style\n",
    "%matplotlib inline\n",
    "%config InlineBackend.figure_format = 'retina'\n",
    "plt.rcParams[\"font.family\"] = \"Helvetica\"\n",
    "plt.rcParams[\"mathtext.fontset\"] ='custom'\n",
    "plt.rcParams['mathtext.rm'] = 'Helvetica'\n",
    "plt.rcParams['mathtext.it'] = 'Helvetica:italic'\n",
    "plt.rcParams['mathtext.bf'] = 'Helvetica'\n",
    "plt.rcParams[\"font.size\"] = '6'\n",
    "plt.rcParams['axes.linewidth'] = 0.75\n",
    "plt.rcParams['lines.linewidth'] = 0.75\n",
    "plt.rcParams['lines.markersize'] = 4"
   ]
  },
  {
   "cell_type": "code",
   "execution_count": 40,
   "metadata": {},
   "outputs": [],
   "source": [
    "structures = []\n",
    "energies = []\n",
    "Mn_compositions = []\n",
    "\n",
    "def get_json(filename):\n",
    "\n",
    "    with open(f'../Data/Data_thermodynamics/{filename}.json') as data:\n",
    "            cluster_data = json.load(data)\n",
    "    for n, calculation in enumerate(cluster_data['calculation_results']):\n",
    "        atoms = ase.Atoms(numbers=calculation['structure']['numbers'],\n",
    "                          positions=calculation['structure']['positions'],\n",
    "                          pbc=calculation['structure']['pbc'],\n",
    "                          cell=calculation['structure']['cell'])\n",
    "        numbers = atoms.numbers\n",
    "        epfu = float(calculation['energy']) / ( np.count_nonzero(numbers == 8) )\n",
    "        x_Mn = ( np.count_nonzero(numbers == 25) / np.count_nonzero(numbers == 8) ) \n",
    "        energies.append(epfu)\n",
    "        Mn_compositions.append(x_Mn)\n",
    "        structures.append(atoms)"
   ]
  },
  {
   "cell_type": "code",
   "execution_count": 41,
   "metadata": {},
   "outputs": [],
   "source": [
    "get_json('LLMO_HSE_full_structure_set')\n",
    "get_json('LLMO_HSE_MnO_endmember')\n",
    "get_json('LLMO_HSE_confined_O2_endmember')\n",
    "get_json('LLMO_HSE_gas_O2_endmember')"
   ]
  },
  {
   "cell_type": "code",
   "execution_count": 42,
   "metadata": {},
   "outputs": [
    {
     "name": "stdout",
     "output_type": "stream",
     "text": [
      "isolated O2 in a box has an energy of: -510.927 eV atom^{–1}\n",
      "Atoms(symbols='O2', pbc=False, cell=[1.0, 1.0, 1.0])\n",
      "correction per atom is: 0.001 eV\n",
      "free energy of O2 gas is: -510.925 eV atom^{–1}\n"
     ]
    }
   ],
   "source": [
    "# The final structure is the isolated O2 molecule in a box. \n",
    "# To approximate the free energy of O2 gas, we add the rotational and translational \n",
    "# enthalpy and experimentally measured entropy of O2 at 1 atm and 298 K\n",
    "print('isolated O2 in a box has an energy of:',f'{energies[-1]:.3f}','eV atom^{–1}')\n",
    "print(structures[-1])\n",
    "\n",
    "# rotational and translational enthalpy and experimentally measured entropy of O2 at \n",
    "# 1 atm and 298 K\n",
    "entropy_298K = 0.00212468/2\n",
    "rotational_enthalpy = 0.000257/2\n",
    "translational_enthalpy = 0.000384/2\n",
    "\n",
    "energy_correction = entropy_298K + rotational_enthalpy + translational_enthalpy\n",
    "print('correction per atom is:',f'{energy_correction:.3f}','eV')\n",
    "energies[-1] = energies[-1] + energy_correction\n",
    "print('free energy of O2 gas is:',f'{energies[-1]:.3f}','eV atom^{–1}')\n"
   ]
  },
  {
   "cell_type": "code",
   "execution_count": 43,
   "metadata": {},
   "outputs": [],
   "source": [
    "# Define the specific endmembers with which we want to calculate our convexhull.\n",
    "# Note that the convex hull is calculated relative to bulk O2\n",
    "\n",
    "MnO_struc_e = (energies[-3])\n",
    "O2_bulk_e = (energies[-2])"
   ]
  },
  {
   "cell_type": "code",
   "execution_count": 44,
   "metadata": {},
   "outputs": [
    {
     "name": "stdout",
     "output_type": "stream",
     "text": [
      "775\n"
     ]
    }
   ],
   "source": [
    "formation_energies = []\n",
    "for e, x in zip(energies, Mn_compositions):\n",
    "    form_e = (e - ((x)*MnO_struc_e) - ( (1-(x)) *O2_bulk_e))\n",
    "    formation_energies.append(form_e)\n",
    "print(len(formation_energies))"
   ]
  },
  {
   "cell_type": "code",
   "execution_count": 45,
   "metadata": {},
   "outputs": [],
   "source": [
    "# use icet convex hull tool to compute the convex hulls for the system including gas O2\n",
    "conv_hull_O2_gas = ConvexHull(Mn_compositions,formation_energies)\n",
    "\n",
    "# now, we remove the O2 gas value from the dataset, and compute a hull for bulk confined O2\n",
    "Mn_compositions.pop(-1)\n",
    "formation_energies.pop(-1)\n",
    "\n",
    "conv_hull_O2_bulk = ConvexHull(Mn_compositions,formation_energies)\n"
   ]
  },
  {
   "cell_type": "code",
   "execution_count": 46,
   "metadata": {},
   "outputs": [
    {
     "data": {
      "image/png": "[encoded data removed]",
      "text/plain": [
       "<Figure size 115.2x108 with 1 Axes>"
      ]
     },
     "metadata": {
      "image/png": {
       "height": 147,
       "width": 165
      },
      "needs_background": "light"
     },
     "output_type": "display_data"
    }
   ],
   "source": [
    "fig, axes = plt.subplots(nrows = 1, ncols = 1, figsize=(1.6, 1.5))\n",
    "a = axes\n",
    "\n",
    "a.plot(conv_hull_O2_gas.concentrations[:2],conv_hull_O2_gas.energies[:2],'o:', \n",
    "       color = 'black', alpha = 0.75, markersize = 3)\n",
    "\n",
    "for x, e in zip(Mn_compositions,formation_energies):\n",
    "    if x == 0.4:\n",
    "        a.plot(x,e,'o', color = 'crimson', alpha = 0.4, markersize = 1.5)\n",
    "    else:\n",
    "        a.plot(x,e,'o', color = 'tab:blue', alpha = 0.3, markersize = 1.5)\n",
    "a.plot(conv_hull_O2_bulk.concentrations,conv_hull_O2_bulk.energies,'o--', \n",
    "       color = 'tab:blue', alpha = 0.99, markersize = 3)\n",
    "\n",
    "a.set_ylim(-0.17, 0.08)\n",
    "a.set_xlim(-0.1, 1.1)\n",
    "a.set_ylabel('Energy (eV primitive cell$^{-1}$)')\n",
    "a.set_xlabel('x in Mn$_{x}O$')\n",
    "fig.subplots_adjust(bottom=0.0, top=1.0, left=0.0, right=1,\n",
    "                    wspace=0.00, hspace=0.05)\n",
    "\n",
    "#plt.savefig('Fig_3a_conv_hull.svg', dpi=300, bbox_inches='tight', format='svg')"
   ]
  },
  {
   "cell_type": "code",
   "execution_count": null,
   "metadata": {},
   "outputs": [],
   "source": []
  },
  {
   "cell_type": "code",
   "execution_count": null,
   "metadata": {},
   "outputs": [],
   "source": []
  },
  {
   "cell_type": "code",
   "execution_count": null,
   "metadata": {},
   "outputs": [],
   "source": []
  }
 ],
 "metadata": {
  "kernelspec": {
   "display_name": "Python 3",
   "language": "python",
   "name": "python3"
  },
  "language_info": {
   "codemirror_mode": {
    "name": "ipython",
    "version": 3
   },
   "file_extension": ".py",
   "mimetype": "text/x-python",
   "name": "python",
   "nbconvert_exporter": "python",
   "pygments_lexer": "ipython3",
   "version": "3.7.4"
  }
 },
 "nbformat": 4,
 "nbformat_minor": 2
}
