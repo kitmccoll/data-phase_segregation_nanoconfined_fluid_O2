{
 "cells": [
  {
   "cell_type": "code",
   "execution_count": 9,
   "metadata": {},
   "outputs": [],
   "source": [
    "# import plotting tools & formatting. \n",
    "import matplotlib.pyplot as plt\n",
    "import matplotlib.style as style\n",
    "%matplotlib inline\n",
    "%config InlineBackend.figure_format = 'retina'\n",
    "plt.rcParams[\"font.family\"] = \"Helvetica\"\n",
    "plt.rcParams[\"mathtext.fontset\"] ='custom'\n",
    "plt.rcParams['mathtext.rm'] = 'Helvetica'\n",
    "plt.rcParams['mathtext.it'] = 'Helvetica:italic'\n",
    "plt.rcParams['mathtext.bf'] = 'Helvetica'\n",
    "plt.rcParams[\"font.size\"] = \"6\"\n",
    "plt.rcParams['axes.linewidth'] = 0.75\n",
    "plt.rcParams['lines.linewidth'] = 0.75\n",
    "plt.rcParams['lines.markersize'] = 4\n",
    "\n",
    "# import necessary packages:\n",
    "# kinisi: https://joss.theoj.org/papers/10.21105/joss.05984\n",
    "\n",
    "from pymatgen.io.vasp import Xdatcar\n",
    "import numpy as np\n",
    "from kinisi.analyze import DiffusionAnalyzer\n",
    "\n",
   ]
  },
  {
   "cell_type": "code",
   "execution_count": 10,
   "metadata": {},
   "outputs": [],
   "source": [
    "# To distinguish between O ions in the lattice and O atoms in O2 molecules, the O atoms \n",
    "# in O2 molecules have been substituted for 'N' atoms in the XDATCAR (XDATCAR_N_subbed) which\n",
    "# is used for this analysis. Hence, O_molecule references 'N' species.\n",
    "\n",
    "# Set up the analysis parameters. \n",
    "O_molecule_params = {'specie': 'N',\n",
    "            'time_step': 2.0,\n",
    "            'step_skip': 50}\n",
    "O_ion_params = {'specie': 'O',\n",
    "            'time_step': 2.0,\n",
    "            'step_skip': 50}\n",
    "Li_params = {'specie': 'Li',\n",
    "            'time_step': 2.0,\n",
    "            'step_skip': 50}\n",
    "\n",
    "# Analyse diffusion in 3D\n",
    "b_params = {'dimension': 'xyz'}"
   ]
  },
  {
   "cell_type": "code",
   "execution_count": 11,
   "metadata": {},
   "outputs": [],
   "source": [
    "# import the trajectory file. Note, the O atoms \n",
    "# in O2 molecules have been substituted for 'N' atoms\n",
    "xd = Xdatcar('../Data/Data_fluid_O2/Cathode_Li0.2Mn0.8O2/XDATCAR_N_subbed')"
   ]
  },
  {
   "cell_type": "code",
   "execution_count": 12,
   "metadata": {},
   "outputs": [
    {
     "name": "stderr",
     "output_type": "stream",
     "text": [
      "Reading Trajectory: 100%|███████████████████████████████████████████████████████████████████████████████████████████████████████████████████████████████████████████████████████████████████████████████████████████████████| 30466/30466 [00:03<00:00, 8770.08it/s]\n",
      "Getting Displacements: 100%|████████████████████████████████████████████████████████████████████████████████████████████████████████████████████████████████████████████████████████████████████████████████████████████████████| 100/100 [00:00<00:00, 3508.15it/s]\n",
      "Bootstrapping Displacements:   1%|█▉                                                                                                                                                                                                | 1/100 [00:07<13:09,  7.97s/it]/Users/km2083/opt/anaconda3/envs/kinisi/lib/python3.10/site-packages/kinisi/diffusion.py:256: UserWarning: The maximum number of resamples has been reached, and the distribution is not yet normal.\n",
      "  warnings.warn(\"The maximum number of resamples has been reached, and the distribution is not yet normal.\")\n",
      "Bootstrapping Displacements:  99%|███████████████████████████████████████████████████████████████████████████████████████████████████████████████████████████████████████████████████████████████████████████████████████████████  | 99/100 [02:13<00:00,  1.87it/s]/Users/km2083/opt/anaconda3/envs/kinisi/lib/python3.10/site-packages/scipy/stats/_stats_py.py:1736: UserWarning: kurtosistest only valid for n>=20 ... continuing anyway, n=12\n",
      "  warnings.warn(\"kurtosistest only valid for n>=20 ... continuing \"\n",
      "Bootstrapping Displacements: 100%|████████████████████████████████████████████████████████████████████████████████████████████████████████████████████████████████████████████████████████████████████████████████████████████████| 100/100 [02:14<00:00,  1.34s/it]\n"
     ]
    }
   ],
   "source": [
    "# Analyse the diffusion of the O2 molecule species, \n",
    "diff_O_molecule = DiffusionAnalyzer.from_Xdatcar(xd, \n",
    "                                                 parser_params=O_molecule_params, \n",
    "                                                 bootstrap_params=b_params)"
   ]
  },
  {
   "cell_type": "code",
   "execution_count": 13,
   "metadata": {},
   "outputs": [
    {
     "name": "stderr",
     "output_type": "stream",
     "text": [
      "Reading Trajectory: 100%|███████████████████████████████████████████████████████████████████████████████████████████████████████████████████████████████████████████████████████████████████████████████████████████████████| 30466/30466 [00:03<00:00, 8979.64it/s]\n",
      "Getting Displacements: 100%|█████████████████████████████████████████████████████████████████████████████████████████████████████████████████████████████████████████████████████████████████████████████████████████████████████| 100/100 [00:00<00:00, 406.68it/s]\n",
      "Bootstrapping Displacements: 100%|████████████████████████████████████████████████████████████████████████████████████████████████████████████████████████████████████████████████████████████████████████████████████████████████| 100/100 [02:32<00:00,  1.53s/it]\n"
     ]
    }
   ],
   "source": [
    "# Analyse the diffusion of the O ions species\n",
    "diff_O_ion = DiffusionAnalyzer.from_Xdatcar(xd, \n",
    "                                            parser_params=O_ion_params, \n",
    "                                            bootstrap_params=b_params)"
   ]
  },
  {
   "cell_type": "code",
   "execution_count": 14,
   "metadata": {},
   "outputs": [
    {
     "name": "stderr",
     "output_type": "stream",
     "text": [
      "Reading Trajectory: 100%|███████████████████████████████████████████████████████████████████████████████████████████████████████████████████████████████████████████████████████████████████████████████████████████████████| 30466/30466 [00:07<00:00, 4243.69it/s]\n",
      "Getting Displacements: 100%|████████████████████████████████████████████████████████████████████████████████████████████████████████████████████████████████████████████████████████████████████████████████████████████████████| 100/100 [00:00<00:00, 5126.13it/s]\n",
      "Bootstrapping Displacements: 100%|████████████████████████████████████████████████████████████████████████████████████████████████████████████████████████████████████████████████████████████████████████████████████████████████| 100/100 [01:29<00:00,  1.11it/s]\n"
     ]
    }
   ],
   "source": [
    "# Analyse the diffusion of the Li+ species\n",
    "diff_Li = DiffusionAnalyzer.from_Xdatcar(xd, \n",
    "                                         parser_params=Li_params, \n",
    "                                         bootstrap_params=b_params)"
   ]
  },
  {
   "cell_type": "code",
   "execution_count": 15,
   "metadata": {},
   "outputs": [
    {
     "data": {
      "image/png": "iVBORw0KGgoAAAANSUhEUgAAAOEAAADfCAYAAAAAw7SnAAAAOXRFWHRTb2Z0d2FyZQBNYXRwbG90bGliIHZlcnNpb24zLjUuMywgaHR0cHM6Ly9tYXRwbG90bGliLm9yZy/NK7nSAAAACXBIWXMAABYlAAAWJQFJUiTwAAAykElEQVR4nO29eZxcVZn//37urbWregtkYQ0JIIEgBAFBFgOi4oo6OLiAouC468C4f2dcZhxn/P7mO+KCysg4zoiooyAgOuICBlmFAcIiIGFJIBDI0kvtdZfz/P44VZ3K0kl3V3Wqm5z361Wvrnvr3uecun0/dc59zjnPI6qKw+HoHl63K+Bw7O44ETocXcaJ0OHoMk6EDkeXcSJ0OLqME6HD0WWcCB2OLuNE6HB0GSdCh6PLOBE6HF3GidDh6DJOhA5Hl3EidDi6zKwQoYicKyKrRaQkIjeKyCFi+YqIjIrIMyLy/m7X0+GYCjNehCJyMPBN4APAXOA64MfAecDLgcOA04F/FJGjulVPh2OqyExfTygi7wNep6qvb2wngTpwI/BdVf1BY/83gLKqfrprlXU4pkCi2xWYAFcDv27ZPhqoAEcA97Ts/xO2ZXQ4ZhUzXoSq+lzzvYicCVwCfBq4CBhtObQI9O3MnojcNc5HS4Bh4NEpV9axO3MQsEFVJ/1INONFCCAiewLfxbaC56vqz0Xk80C25bAerIimSrK/v3+fZcuW7dOGDcduysqVKxkdHd35gdthxotQRHLAzcCtwBJVLTU+ehg4HFjV2D4MuHdn9lT16HHKWbFs2bLlK1asaLvOjt2PU045hRtvvHFKvagZL0LgbGCdqp631f7LgY+LyI3AwY3jTtzVlXM42mU2iPAIYLmIRFvtPxB4IbAGGAEuUNVVOByzjBk/TqiqH1ZVT1UTW73WqOqHVLVXVfdT1R92u64Ox1SY8SJ0OJ7vOBE6HF3GidDh6DJOhA5Hl3EidDi6jBOhw9FlnAgdji7jROhwdBknQoejyzgROhxdxonQ4ZgEpl6n09EonAgdjgkSl0pEIyOYYrGjdp0IHY4JYsoVCENMtdZRu06EDscEaHZBNQyRVLKjtp0IHY4JoGGIhgEYg/h+R207ETocE0CDAA23XlfeGZwIHY4JoPU6GtSnxbYTocOxEzSOMWGIRvG02HcidDh2ggYBBMG02XcidDh2gu2KBkhieuKiORE6HDtAjcEEQWNoIjUtZTgROhw7wBSLaLUKng/e9MjFidDhGAdTqRCXSsTlCl5v77SVM6tEKCI3icjxjfcHikggIrWW16ndrqNj9qPGYMplotFRTLGIl893fIC+ldkQgRsROR14E3BSy+4DgZ+q6tndqZXj+YAGAaZux/8klbLblSpar2EqVSSdwUunp7UOs0KEWPElgFLLvkW4NGaOKRCXSnbYoel0qdcBQZIJNIzQeg08Hy+XmzZnTCuzQoSq+lkAEWlNAroIeJmInA8Y4Fuq+uWd2dpBfsIXtF1Rx4wnLpWIR0Yw5TIAahQvnUbVoOUKJBJ4vX3TNhyxPWaFCMdBgeuB/wvsB1wrIk+p6uXdrZZjpmKqVeJCAVMsIrk84nlIsrMrIqbCrBWhqn6mZXNERC4GXodNmbaj88bNTwgs71gFHTMKEwRWgIUiku2Z9ue8yTCrvKOtiMj/aWTwbZIEyt2qj2Nm0hRfNDREPDoKySReNrvzE3chs7YlBF4G7CcinwIWAh8Etk4k6thN0SgiLhYxlYpdhlSrIZksXk9Pt6u2DbNZhOcBlwLPAOuAf1LV33a3So6ZgCmXiUtlTKWMqdbwslm8vv5d6myZDDOzVuOgqge0vH8SOL17tXHMROJSibgxyE4iiT84iEzTdLNOMatE6HDsCFOrNZwvBSSXn1HOlx0xs38iHI4JosZgikVMqTTjvJ87w4nQ8bzAVCqYShWUGef93BlOhI5Zj51wXcFUK3j5fLerM2mcCB2zHq1W0Zqd7zlTPaA7wonQMatRVdsVrVanvRtaufNOitdf73JROBytaLWKqdVAZNpXPBT+538oXX8DItJRu06EjllLayso09wKxiMj1B95hOwx25163BZOhI5Ziao2liRVxpYjTSeVu+4CY+g52onQ4QDs1DRTKhGXy/jTGP+lSeWPfySx554k99+/47bbFqGIHCQiL9pq39J27Toc4zE2JFEu4/dN/wJcU6lQvfdesscc0/HnQWhz2pqI/D9gAVARkcXAa1W1DnwDu8rB4eg4plJBa1XwE7tkUW75ttvQMCR3wgnTYr/dlvDFqnqOqr4XuBL4amN/538uHA5sYKa4VMJUKrtsWVLpxhtJ7rUXqYMOmhb77YowFJF3ichcVf02MCAifwtkOlA3h2ML1BjiQgEtFpF0ZpcMzEfr11N74AHyy5dPS1cU2hfhXwC9wOGN7XOATcBjbdp1OLbBFAqYchk1iuyiVnDossuQRIL8KadMWxltiVBVR1X1G6r6+8Z2rKqXqOo5zWNEpFdEzhWRX7dbWcfuiymXictlGw07n5+2VqmV8h13UL7lFgbOOovEvHnTVs60tOciksYGXXob8Bpsy3jtdJTleP5j6nWiRpQ0L5/fJd3Q6gMPsOGii0gdcAD9b3zjtJY15W8jIingldjQg78DQuAVwNuBNwBPAgcBy1X1zvar6tgd0SgiHhm1C3WnIRp2tH49wZo1pBYvRnyf+hNPULn1Voq//z3JffZhwec+N+2ib8f6zcAXAb/xfn+gAvwQOFlV7xeRDcDTbdfSsVuiqjZURakIfqIj3lCNYyq33064bh3l224jeOKJbY6RRIK+V7+agbPO2iUTAdoR4d3AKdjhiHuAKnAYMAA0f646O93csVthCgVMqYwJI/yBgbbtaRCw4atfpXz77QCkDjiAOe96F6nFiwkefxzxfZL77Uf64IN36cLgKYtQVd8vIn2AqOoogIgsxHpILxORGMhjw9U/04nKOnYfTK3WSEtWxu/vb9sRo6ps+NrXKN9+O3Pe9S56X/lKvMzmkbTs4Yfv4OzppV3vaKEpwMb2GlX9kqoeCrwb+C5wlYg8KCL/0GZdHbsJrfFivFyu7WcyjSKGL7+c8m23Mecd76D/jDO2EGC3mbYnzoYz5k4RuRB4NbaFdDh2imkE7QVpSyzhunWU/vAHyjfeSPjss+SXL6dvgp7O0ITU4joZP03Ss1PjjBoqUYW8iehktsJp9/WqaoQdnmh7iEJEbgI+oaq3i+2f/CtwPjb8/T+o6iXtluHoLnGpPJYd1+/vn5KNyp13MnrttdQeeABEyCxZwpx3v3vcCdiRiQlNgAIGQ1KSFMIi1bhKUlLkkz3kEzmGghHCqIZEFdLMafObbmZWBOQYJ0noecDLsc6gOcDvReSPqnpPF6roaBNVtUuTikVMoTDl8cDCL3/Jpu9+l8TcuQy+/e3kX/YyEnPGF0xoQoaDEWqxTRSqKGkvTd3UCeKAitaINSY0IZFG1E294+EtOiZCEfkkcK2qPtQpmy1sL0noOcD/p6pPA0+LyI+At2A9tY5ZhikUiItF4kIRL5eb0nhgdeVKNn3ve/QceyzzPvGJnYrYqKEQFimGZUDxxXYyR4ICnkB/sq9xTIm6qRNHNXwUTzq7DLeTLWEJuEhE9gV+DfwcuElVTbuGx0kSegRbCu5P2JZxh7gkoTOPuNECxoWiXR84heVJpl5n4yWXkNx7b+ZeeOGEWtFyVKEcVVA19CV7x7qqPb4dnhARPPEYTPUTmJAy1UnXayJ0TNKq+i1VfRVwPHAbtrv4kIj8QETOEpFOj3r2AaMt28XGPscswlQqY4k7/d7eKa8PHPnJT4jWr2fP971vQs6cyMRUogrVuEY+kdviWVFEttlO+yky3vSE0Oj4M6GqloArgCtExANOBM4A/g7benWKEaB1RLUHGJ5A/VyS0BlCXCoTFxu5I3qmnh++9tBDjF5zDfmXvYzM0okFdShGJSpxlZQk8b1O+jonz7TGmFFVo6o3qeonVLWTAgR4mM1LqMA6aO7tcBmOaSIuFIhHRzAjIzZv4BSHIkylwoavfY3E3Lnscd7E0lOWowqVqEIQh/Qkuh8yfzYHeroc+LiIzBGR44CzgZ92uU6OnaBxTDQ83BBhI3tSG1PEhv7zP4k2bmTuBRdMaG5prDHlqEIpKpNP5jruZJkKs2KIYhwuBV4IrMF2TS9Q1VVdrZFjXFQVrdXsEETZxgqdqhOmSfmWWyj+7nf0v+lNZA45ZELnVKJqY/wvQcqb/vg0E2G61hP6wB7AJlWNO2V3qyShMfChxssxQ1FjbGCmahVTr2PKZRCv7eSdpRUr2HDxxWSWLGHwrW+d0DmhiawzJqoxkJw5PryOtsUi8noRuQOoYVNYV0Xkhq2GFhy7Ac14MNGGjcSbhog2bSIulZFM1k7IbkOAwerVbPz2t8kcdhjzP/e5CbWmqkqp4YzJ+OmuO2Na6ZgIReQdwI+wC3xPBZZglzrdDFwtIn/ZqbIcMxdVtSsghoYar02Yeh0v30ticLDtidOmVmPDRRfh5XLM+5u/mbC9clyhHFYJTTg2DjhpOjxTpkknu6OfBt6rqj9s2bcKuFVE7gO+gHOcPG/ROEbrdZsbolazE7AVvL7+jq1MV2PY+PWvEzz9NAv+7u8mvMYwNCHlsEw5LtObmHp8mt8+9weeDTbw0X0unNL549FJER4EXDPOZ9cCP+hgWY4ZgsYxplgkrlYhijBVmy1XMpmOLhdSVYa+9z27HvDcc8kuWzah8yITUwiLlKIKaS9F0tv5LV8Ii3zxga8QasRL9jiaN+9/BqqG69avYH5uAYlsZyO9dVKEoqrl7X2gqvXGwL3jeYCqovW69XbWatbpUq0hyaQd8+twHBhVZfj736fwy1/S99rX0nfGGRM6LzIxw8EIxaiEqqEnkdvmmFJY5pqnr2Pl8AP0p3o5YmApdw3dy3P1DRza9wKufvo61tc3ckR+CcNRkXP2fRvid/Z5sqPeURHZDxd9+3mLRlEjFVkNDQPb/azXkVQaf2Cg4zdnk9Err2T0mmvoe9WrmHPeeRPqTqoqxahIKSqhqlvMDW3yZHkt//LwNxkORjms7wVsrA/xozVX4YvHBw96NyfMPZafP/1rfrTmKm7dcAdz03M4Yt5RHf9+nRRhAljN+CJ08WZmMRrHRJs2NfJANFJTp9P4g7m2PJ07K3Pov/6Lwi9+Qf6lL2XOe94zIQEaNRTD0pgjpj/Zt815oYn42iOXEqvh7w//JAf2HoCqUovrKDo2k+aMfU5ncXZffrrmGk7ZezmJaYg90zERqqrrbj6Psd3POhqEHXW2jFteFNmYMLfcQt9rX8ucc8+dkNhDE1EIC5Qb44G9yfx2Z8VcvfZXPFN9jk8f+hEO7D0AsBO1s4ltn2MPTe7PFw77GEFfFjPTsjI5dh80CNAwQDLTnwNCVdn4jW9QvuUWGxPmTW+a0HmhiRgORihFZYyJ6U/14W9HgE9VnuHnT1/HiXsey5GDO57wbYIAjEGy1tFk6NjckzE6PVjvicheLdsvFZGPiEjn05s6dhmqigkCNAx3SSqywtVXU7rpJgbf/vYJCVBVCUxAISxQisrQeAbcngBjNVz62GVk/AzvXHTWTu2aahUv14OXzU5bt7uTg/WHAE8AX2lsvw87ZHEy8CsReXWnynLsYsIQDUNUvGlzvoC96Uevuoqhyy4jd8IJ9J955s6r1ghPsbE2RCEsYky8zfrAVm7dcAerik/wzgP+kr7k+EtcVRVTLuP5nm39pzEOaSf7Ff8X+I6qfqmxfSHwQVX9kYi8CvgU8KsOlueYRjSOwRhMvY5Wq2gQTGsraMplNv7bv1G++WZyJ57I3I9+dIdOmMAElKMq9bhOOaoQa0TKS9GbHH8wPjIRVzx1LQfk9uPEuS8GsD8ucaOL2WzpGrN+vEQCL5/Hz01vAppOivBE4FwAEdkbOJDNEdZuwk5pc8xgTBDY1GPNG9MYCENMrQ4ieNMUEr7++OOs/5d/Id6wgcG3vY3+M8/cbtdPVYk0ajhd6lTiCpGJyPhpenfQ+jX5zbM3sr6+iU8s/Eu0UiUKQ8STzc+4Udg4UvB7skg2a1f7z+BcFFsj2InbAC8F/tRYZQ92BXznn2gdbTM23axex1SrY6sdEA/E3qBePj8traAaQ+EXv2D4Bz/A7+9nwT/+I5klS7Y5LjABlahKEAdEaqibGvU4pMfP0JvaufgAVpee5EdrfsaR+UM4IrEQz/cgk0fS6c3fLW6EQxJBEj6Sze6SFGydFOEfgL8RkYuxsUCva/nsPOD2DpblmCKqClGEhqEVXr0O9QAN6pgwwstm8QfnTJsTokntkUfY9J3vEDz+OD3HHsueH/zgFnFGVZWaqROakEpUpRJbEfrikfSSDKb6JrwgtxxV+Oojl9Lr9/CB/d9KYmAQ6cniJVNIqvtrCjspwguwE7S/BDwAfKURoPcOYD5wegfLckwCE9jZLRqGaBShUWTnedZqaBTb6WapNH7vtoPanUajiJErr2T0pz/FHxhg7gUXkDv55C3KjUxMMSrawXYNCExI1suQS/VPeiV8rIZvP/IfbKxt5G8PeD/9A3vZ2T3JmTM61+ma/CWQw0bEzmDTpV0K3NrY59gFaBjacb3GHE9TqzXG+awI8XzE9+08z1Rql3S54pERyrffTvHXvyZYs4b88uXs8Z734OU2z+cMTEA1qlGLa1RNjSAOyHgZ+hJpEhOYeN2k2cUuByW+ueYH3Ft6mHfs9xcs2euFeL35KQtQp2nSVydFuBqbKLT57Lf1f1axEdEc00gzghl1GynaOlkMXiaD15ODRGKXiA6sGKorV1K6/noqd96JxjHJvfdm/mc+Q8+xx25xbDEsUQor1EyVehyS8hL0Jyfe5dxcpl1MbFI+X33q+/y58jjnHfwOXnnA6Xjp1ISdLLXGj4EgZBNZUn6K0ISkvBQJ6Wzb1UlrV2MjZd+EDXn4C1UtdtC+YydoFBGXipiREUimxlo7v8OrGnaGKZcp/OpXFK+7jmhoCL+vj77Xvpb8qaeS3H//sR+BZtClwIQEcUAhLJH105N63mvFju2V0HSCS575KQ+WHuMjyz7MS/ffcSTLZqKXMA7JJXPEGlONqvQl+1CUYlikR3uI4oh8Mk/a7+z17OTc0b8QkSw2R/2ZwNdE5E7gZ8A1qrqxU2U5tkWjiLhYRKtVSKZ2SYbZVuJSieqdd1K5804qd92FhiHZZcuYc/759Bx77BYtkJ0oXaMUVajEFZsHQqE3mWsr+JLWalRMla8+cTkPFVdx9mFn71CAscaUghKRiUj7afLJPMWwiC8+/al++tP9GDWICIWgQNJPkp6G0BgdbVdVtQpcCVzZktP+TOCfRORPqvqyTpa3uzL2rFep2Gc8GoPr9TqmWutIVtuJEBeLlG++mepdd1G97z40ivAHB+l9xSvIn3Ya6UWLtjjeqKEa16jGNWqNcT5ffPoTvW3f2BobNhSf5avPXM7a+nN86KgPs3zfHbeApaBE0kvSn+onnUjji0/CS5DwEuSSOTKNydzNlltVO94KwvRO4PaBFDZ1tg8E01jWboE2Vq5rrTY2k8WEmweYJZWyQZSmc2pZHFO9915KN9xA5Y470CgiuWABfa95DbkTTyR54IFjN21krHsgNAF1ExBpTCWqjj1r5Xz7rNUuQa3CFauv4VfDN+N5Pp988Sc5aifr/iphBUHIp/LMycwZ6/72JHu26Qrnkjl88anHdbLTECy404t6e4HXAW/GBnu6Cdsd/ZCq7jREvWP7qDHEo6OYWs22drUaiGfX8+Vtt3Pa1vSFIdWVK6n9+c+ETz5J/bHHiIeH8fv66D39dHpPOw3Zf19qcY1CXEfrm8bONSiqEGlEYAIijfDxyCdyEwozsdO6qXL/+nu5fO3VPFlfx0nzX8JbDz+H+fkFOzwv1phaVKM/3U/fVs+f4z2LZhKZsZax03QyNdq1wAnADdjxwnNbZsxMCyJyI3Bcy64fqurEYqHPIkyxiBkdJa5UkVQKr7dv2qZSxSMjBGvWUHv4YeoPPkh91SpMrYb4Psm99yZz2GHkjj+enuOOoy4x1bhOtT5EzdSoxwGbk3AJngiC4IlP2kuR83q2u7JhKqwqPM6Pn7iSB0ur2CM9h48vu5DjFp608xOxrWAmkaEn2dORlrhdOvmffC0QYVvC1wHa4goXQFW100MUi4F+Va132O6MQFXRSoW4UiGuVKcthES0fj2lFSso33ILwVNP2Z0ipBYtIn/KKWSPOYbsEUcgiQRGDfW4zlBcoB4H1EydIA7J+KmOPNvtiGer67l7+H7u3HQ3DxdW0evneOeit/DKQ15HOrNt/JjtflcTEZqQ3nQv+WR+2uo6GTopwkU7P6RziEgGiJ6PAmyKrzV8oJfNdkyAGobUH32U2v33U7n7buqPPAJA5vDDGTzlFNIHHkhq0aJtPKy1uE4pKtsBdVMHNWT8NLlUdtpyOlSiKivW38IfNtzOmvJaQNk7NZe37/MGXr7w5eQH509q8L0clsn6WXqSPTMmAHAnhyjWdMrWBDkASInI3Y33NwIfUNVnd3TSTE4SqqpoEFjxlUqYcsVOJs72TDmCmaoSPPYYtfvvp/7444Rr1xKuXWu9qSKkFy9m8OyzyZ10Esn588e1E5qIkWCUYlRCFHr8zLR25f5ceJQb19/GHzfdTSWucmB+Iefs/xcclT6IBfm98Pp67QqHSfwwBXFArDHZhBXhTGHmTKCbPIPAg8BfA2uBrwOXAa/oZqWmihpDPDxsvZ/1OiYI8fP5Sefs0ygi2riRYPVqavfdR+Wee4ieew6AxNy5pPbfn55jjiF14IFkli6d8HhiLa5RMzWSkiA3TTdwPQ64e/g+rn/uD/xp9BGyfoYXDb6QV+91GovSe2PKZfyeHiTXY5PJTMIZFZmIUlCiL91HPrX9uDPdYtaKUFVvo0VwIvJx4DkRyTbGK8c7b8YlCdUwHEsXbep1vHQaf2DiUcyi4WEqt99O+aabqD/2GNoYtvAyGTKHH87AmWfS8+IX4/dNLQmKqlI3AfU4oC/R+eeoclThp0/+nBXrb6VuAvZMD3L2wjN5xYLlpCRhJ59Xyvh9vTaffX5yi2xjjSkEBXLJHPlUfka1gjCLRSgirwECVf1dY1cS6xiaVeORplwmKhTsM2AYTShZisYxldtvp3jDDYRPPUW00U5GSh1wAH2vfjXJ/fYjuffepA8+uG0vaqwx1bhGPa7j4U1qIvXOeLT4BL9adz13D99PEAecPO94TtrzOA7tfwG+eDanRXUUL5nE6+3D6+3Fz01OQJGJKAQFsn6WfCpP7w5CWnSLWStCYA7wBRF5HfAMNrzGFZ1MxTbdmEqFaHQUMzqKpDM7FWD47LOUb76Z4m9+Q7RxI4n588kcdhipRYvIHHHENjNUJouqEmpIbGIijQlNSGhC6iakFtfI+u2PkxXDErdsvINbN97JquIT5BJZXrLHMZy+16kszO07Vo+4VAI1ttuZzeBl7YqPyRDEAaWgRC6ZI5fK0Z/u32WT1yfDrBWhqv6gEVzqD9ghkN8AH+5urSaOBgFRYXO+9vHyNqgqlT/+kcK111J76CHAejHnnH8+Pccc07bHtLl4thbbBbSRiYg0wmAITURsYpJeklyiZ0rzOlWVTcEwj5fW8L9DK7l9412EGrF/zz6cvfBMTpt/8haxPjUMiSsVG9+ltw+vr2/S4gO7CqISVcaeAXu3E4F7pjBrRQigqp8FPtvtekwWjSLiQgEtFpFUersCVGOo3nUXwz/+McETT5BcsIDBs88mf/LJJObNa7sOkYmpxlWqcY0gDqk3VrH74pP0EghCj58lOcGlTyPBKI+WnmB9bRPDwQjDwShDwTDPVJ9lNLSLabJ+hlPnn8Rp809i/0arN/Z94xhTrUEcWudLG/FdxgSY6qM/3U8uObExxG4xq0U4GzH1OvHIKKZYQI3i9W75jKNxTPnmmxm54grCp58muWABcz/yEbv6vI3nu2aQpMCEBCYgiAOqjVkuPp5dRZDYdt7kjohMxG2b7uK3z65gVfGJsf1JL8Fgsp+B1ABHDixlcX4hi/MLWZjbb4vWVON4bLExJkbSabz8ANLTg9czufguRg1BHKCoXYaU6mMgPTDjnDDbw4lwF2JqNaKREczoKPgJvP7NzyimVqN8662MXn014dq1pBYutKEfTjhhyuKzz3TRmOgiNUQaEjS6nRk/PaVZLuWowvXP3cR1625gOBhlr+x83rL/G1jafwjzM/N2GvlM49jmLzQ2tIbXk0USSSSTtpMSJvl9VZViUEQa68ibLeBsECA4Ee4y4lKJuFjEjBbs/M9GWIdoaIjRn/2M0g03YGo1UgsXMu9jH6PnJS+Z0qTsZjzOWGOCOCRSK8RmVzMhPlkvTXInyTI1ju1EcWNQY9A45jHW86v1K7h7+H4ijVnafwjvPfAdHDFw2A5b0LEV/vW6zXZrYiu2dC+SSSOplH1N4ZmtHtepRTU88ehP95OQBCk/NWsECE6Eu4S4VCIeGcEUi3b2SyOac+2hh1j/5S9jKhVyL30p+VNPJbN06ZQdCLHGjAQFimGJSCM8hKSXJO2ldtjVbM7U0TACE6PGICik0jyrI9wxei+3bvxf1lafIZ/s5RULlrN83glj3szt2owNGkd2jC+KkIRvZ/14Hvg+Xk8PXk/PlH5oml3rSlhBUbJ+lkwiQ3+6n2Qbi4K7hRPhNBOXyjbmSbGI5PJj08+Kv/0tmy69lMS8eSz40pdI7Tv+Db3TMjSmHgdU6yVKUQk8oT+5/WQo0HgWi2OIYyuWMMBLJihQ5ZHaGv5cepzV1bU8WXmGclQB4AX5Rby7/028dOHLyCS2nEKnqjZad60GqmgcI2pszNJ0Cnrz9n0mA34C8ScfTr85cbwaVTFqSHgJ0l6aXCpHT6KHTCIzo2bBTAYnwmkkLhbtOsAWAZpymU3//u+UbryR7JFHMvdjH8PPT34WSmRiQhNQDSrUqyXq9Qp1E2BMxOCcvccEONYiBSEaRzbDkCeI7xOI4YHKKlYWHubB0irWVdcDkPSTLOpfxEv2PYED+w9k2bxlDNQTxENDeNq0uzloMCgigqQzSMIHz7MBdRMJG80tnZ5Si2fUUItqY0MnKT9FX6qPhJfAE4+Mn9nuItzZhhPhNGFqtbGpaF5DZMP//d8UfvELtFpl4C1vYeDNb55wi9Dq3azHdWqVAkG1QqABcUJI9fSQS/WTDAymXMGkUnYdoCfgeXasLZumaKqsHH2QezY8wL1DD1CNa2QTGQ7bcymnLXolS+YsYfHA4m26dbGp4CWTNid9rQZxZBcV9/VZ4WHz1EsqhSBTDqobm5h6y5hlyk/Rk+gh4SXIJDJjkc+eTzgRTgMaBMSjtgvq5XIEa9aw8etfJ3zmGXqOPZaBs84ifeCBE7ZVrZUo+xFBVCcIKgS1CiYhpHryZDMDZDJ5vEYrFI+OImJbKq83z/p4hAdLj/Lo0BM8WnyCtaWnARjMDHLividx/N7Hs3SPpTudjualUphUGlG7ir/pVPHSmbajWAdxMCY8gJRnhed7Phk/QzaZJeklZ32LNx5OhB1Gg4BoeIR4dARVKFx1FaNXXok/Zw4LPv95skceuXMbqoS1KmG1RD2uUvOhWBhCBdLpHnIDe5LK5vFzuS1mk6gqaxnm3sI9PDTyMH8eXTX2TJdP5Tlo4CBO3Pckls1dxuL+xZNyAEkygT84gIYRIo1Wb4ohNYwaQmOnxwXGBinO+BmyKdvKpfwUaT/9vBZeK06EHURNI/BsYZRotMDGr3+d4PHHtxtteuvzTL1OxdQIwhphtUzkKyaRIMp6hAnIpPakJ51D0hm8ZHKL1ue58nPc+sytrFi7gnWldQDMz83n2L1ezMGDB3PonEPZJ79P29O2vFQKJru0ShWDwaghMpEdr2x0Mz08cokc6UR6rJs5G72b7eJE2EFMoYAplaivXsPGiy/GlErM+9SnyB133Ljn1EujVCsFIl+pRBWqcQ3Tk8FPZUims6R78vQns4hiF/iKEJmIR4ce5q7n7uKOdXewrmyFd+geh/L6xa/nRfNfxJzMnF30rTejqmPPcrHGY8ITETzxSEiCbMJ2LZvxO1N+ipS3a0Lxz1ScCDuEKZeJSyVGf/0bRi6/HK+vjwVf/OI2z36xxtTDGmG5RK1eIvQMUSZJlPRQsuT9OaTzA/jpzS1OZCIeH32ch4ceZuX6lTwy/AhBHOCJx9I9lvKqRa/iqHlHsSC34yhjE6UpJkUbKyrsRO58Kr8dh411pAQmIDaxjdspCVJeCk88fM8f82YmPLs/5ad2i27mRHEi7AAahlaA11zD8OU/JLtsGXMvvBDN56g0Zq+EYY2wUiIK6oQaY9IJoqxAIkGmd4DeTA9JL4mIEGvMk4UnuX/j/dy34T4e3PQg9diG0tm3d19O2/80Dt3jUF645ws7Mjm56XmNTDQWCMkXH088PDzSXhojhnJYZiA9AFjxVRvpytJemnwij+/5JP0kSS9JwkuMBdN1gtsxToRtoqrEhQIjV/6M4ct/SM9xxzHv4x+nRkixPkSlPEJYq2KIMakEkkuT9LIkMzl6cnlSqSzryuu49ak/8tCmh3iy+CTryuuIG4FzF+QWsHy/5SzdYymHzDmkI93MpkOk1UHie/5YC9aT6BmLSO2Lj+/5lMMy9VqdYlAc62pm/AwD6QGyiexYN3N37lZOFSfCNjGjo4xeey3Dl11Gz/HHM+dvLmQ4KlApj1KsDJNMpkn39ZFIZfHTGSqJmDXFJ1k9dB9PP/k0D2x8gI1VuzJ+MDPI4v7FvGjei9indx8O3+Nw5vbMnXhdGjE/W1ueWGPbpWy0cHFjzXPSS5KQBPlEnqRvvZDNVqzZkrWiqtQSNcI4tILzk6QT6bExPMfUcVevDeJCgcL117PpO5eSPeoo8hd8iKHyegrlISpeyH3BYzxZepaN60cYDQtsrG6kGm0Of9Ob6mXJnCW88aA3csTcI5jfM3/SLUmzVWt6HgUhnUiPOUcAEmK7htlE1q4X3EpsE2nBsoksfek+a78xfOBavc7gRDhF4lKZkZ9dxabvfIf0C15A5qPvZXhkHc8E67ml/AA3bryNclShN93H/Nx85ufms3TPpSzILWDf/L4s7l9MPjWx6WpGzVjr1up9DGPrPGkKKpfM2aQrUXULwSUkMZboJOklpxRvU0ToS00tUJRjxzgRToG4UmHjt77J6FVXk3nRUSQ/8G5Wj67h6pEV3D58D7EoR88/mjcc9AaWzFmyU3tNxwiAIGPPXM0xtdasQF4jZ7svPplUZmxsren2DxuLdpNekpSXmjEBbh3j40Q4SUy5zLN///eUb7qZ3CteTv3M0/nvp6/muuGbURFO2f9UzjjoDPbO722PVzPWLVRVYo3HRKdq0y9HJiLhJVAUVbUeRTyyieyYlzE04WY3v58aa922nkfpez4ZpidxiWN6cCKcBHGpxDOf/BTVlSvJn/kmHnrJPlyy6l94LtjIS/Z6Cecc/k727NlzLNBsYGz0RV9sa+SJZyc3I2T8zNj7pmsfGBNh073fHFOLTDR2rOP5hRPhBNEw5OmPf4La/feTPvdt/OcBT3PdmmuYk5nDZ178GZbMPYx6XGe0PjrmeexL9W3hafTEGxNi6/jZRMbSnAfy+Yv7z06Q9RddRO3++xk673V8fXAFa4ee5ZT9TuHNS86yXUK1sU2aXcWUnxrzQjocO2JWi1BETgcuBvYGfgmcr6rFTpdTufdeNv38Gn735oVcnbuOnOb46NEXcOTcI8n4GdJ+mkwyQ9bPjnUrHY6JMmtFKCKDwI+A87AZmb4DfBG4oNNlPfObn/PPr67y5PwnOWbusbzzhe9ibs9c0r6d/T+bQys4JsHqm2H9Q3DM+TZWToeYtSIEzgDuVtWrAUTky9jW8IJOFqJRxOUbruOpgz3ed/C7OPXQ145leU37k0hXZgyYEMSzEcfCCqiBOASN7b44AHTzMYENBY94EEcQlMFE0BwkNxFEgf3cT4CJGzaAZjc4qjVsyObPxLfHAwRV+1kya/dXh8BPQSJjz20stMUYe76J7Au1dYzq9jjPAz/d+AzwfJAE+ElI5WmsNLb1CquN9wlAoD7auEgexLXNdqJ641oYe3wcQFhr1Ltst/2kfV8b3VxuaT0k0rYsNfZ9do49NrLhOAir9r2JbBniQSJl/wYVe4yJ7LXo2xd658P9V8DgQlj6JsjtOZnbaIfMZhEeAdzTsv0AMF9E8p1M0/34bT+nd+4z/NtQggPu/QnJh/8HT2P7T4xt0Fo0aoiscXOC3R9WG/9g7LHPV7xk44fEAM1ZNDo1W03RIQ2RauO9b8tJpKz4Uzn7uYkg2QOZxkSCOIS9j2oILLb2ohqUNzQEmbFVTGTsj0OzDI3tDxoK+fn2PC8BURU2PQJPrID9joPTPm/P6yCzWYR9wFhiUlWti0jU2D+uCCebJPS5Wz/PO2ujpPc8jES2H0/V/qI2f1m9RONX37M3iYi9ScSzrUszh3vrLzMCyXTj3ERDqNI437M3BNgbbeymFkj1bG7hVMH37S+1aqOVTWxu4Zotkp+2LRxq69k8t/mDkWjUMW7ctJn+zTdwItU4l80iEG/z90XsNWh+52Yr3lqGabTgIvYzE9kyBfvDBfZ7jX2nZKN18je3+BPF8229Pb8h0GZuIG1530Lzutts7rb8Zs9jbD+bW+VE2l6fZGfHYWezCEeAbHNDRFLY7zPcyUIOPeNiHrzrZxx5ynvw++dtFlWzC9P8ZzVvmNYbp3mjNn/Nx54bdfP5ree2vm8KeYvtlhujtawxEYzDRG/msTIcu5LZLMKHsc+FTQ4FVu0oQShMPkno4KHLOfHQruQOnRydEI8TYFeYzS69q4GTReTkhqf0n4AfdrdKDsfkmbUiVNVNwLnA94GngPXAP3e1Ug7HFJjN3VFU9Vrg2m7Xw+Foh1nbEjoczxecCB2OLuNE6HB0GSdCh6PLOBE6HF3GidDh6DJOhA5HlxHd0ZzD3QgRWdvf37/PsmXLul0Vxyxk5cqVjI6OPq2qk8577kTYQETuAeYCj271UXOu6XirL6bKdNh1de1eXQ8CNqjqUZM17kS4E5pLn8ab+D2T7Lq6zq66NnHPhA5Hl3EidDi6jBOhw9FlnAgdji7jROhwdBnnHXU4uoxrCR2OLuNE6HB0GSdCh6PLOBE6HF3GidDh6DJOhA5Hl3Ei3AEicrqIrBKRsoj8RER627R3k4gc33gvIvIVERkVkWdE5P1TsHeuiKwWkZKI3Cgih7RrV0Q+LCLrRKQgIr8Qkb06UdcW+0tFpC4iCzpQ1xtFpNby+o8OXdfFIrKi8X9/UERO6eQ12AZVda/tvIBBYAh4Y+P9T4GvTtHW6cAl2KQUxzf2nQ/cB+wDvBDYCBw1CZsHYxPfvBqbk+Mz2CxVU7YLHA5sAo4D8tj8j5e1W9cW+z5wa+M6LOjANXgKSG+1r+26Av8LfA7IYQNMP92pa7Dd8rp9s8/UV+Pi/65l+2jg2Sna+iLw70CxRYS/B85pOeYbwJcnYfN9wLUt20nAtGMX+CDwXy3brwPubreuLed9AvhKiwjbqWsGeGI7+9u9ri8CVtOYyNLYd2KnrsH2Xq47Oj7j5j+crCFV/ayqvgfbyoxn/0/YhaET5WrgIy3bRwOVNu1eCvwVgIjsAZyNbbnarSsi8gLg3cBnW3a3Y/cAICUid4vIkIhcJSILOlDXo4FVwH+JyEYRuRMIOmB3XJwIx6cPaKaQRVXrQDP/YcftY1vJCdtW1edUdTWAiJyJTQfw6XbsqmqoqoGI/BW2u/VG4Mft1lVEPOC7wF+rarnlo3bsDgIPAudgBTmK7Tq3VVdgT+A04NfAfsD3sD947dodFyfC8RlhevMfbmEf6JmsbRHZU0SuAb4GnK+qF3fCrqpe2jjvU9gbsNSmzQ8Bj6nqb7faP+W6quptqvoKVX1QVQvAx4GXtWOzhftV9XJVrarqt7Bd/Xavwbg4EY7Pw1hHRZMJ5T9sw/5hwL0TPVlEcsDN2C7uElX9ebt2ReRvReQcgMb3/DYwB1jbTl2BU4C3Nb2YjX2r27ErIq8RkZe37EpieyptXddGvZIt5QhWJ7U27Y5PJx4sn48vYA+sd/RkbNfnl8AX2rS5ms2OmfcDt2Bv8uOwqd0OnoSt9wK/387+Kdtt2HwAWIx1fHymcaO1VdftlNN0zLRT13OwQbmWYLuF3wcu78B1HcS2pu/BtnwfwQZ4+kAnr8EWZXb7Zp/JL+D1wBPYrsj32ModPgV7rSL0gW9iny2eAt4+SVsXY72h0VavhVO1i+1uXwQ8i33++RXW+dBWXbdTTlOE7V6DLzbEsKEhwMFO1BV4MXAnUACuBxZ1+hq0vtx6Qoejy7hnQoejyzgROhxdxonQ4egyToQOR5dxInQ4uowTocPRZZwIHY4u40TocHQZJ0KHo8s4ETocXcaJ8HmAiFwvIlHjpSISt2wvF5FHReS4aSz/r0XkLVM89z9E5MBO12k24eaOPs8QkdXAu1R1xS4qrw8b+uHFqhpP4fwjgc+p6pkdr9wswbWEuwGNiGzHN6KGPSgi32xEEvujiJwhIveLyAYR+UTLOaeJyH2NSG4/EZE545j/K+BqVY0b9u8VkYtEpCgid4nIEQ17/SJydWP/oyLyVgBVvRfYT0SWTvuFmKE4Ee5+HAo8BMxvbF8MvAF4KfClhlj2BX6IXZu3L1AF/nUce2cCN7RsH4FdsjUHG63tx43wFhdilwHNAd4G/IeIDDTO+X2jDrslToS7HyPAN1W1hF2we4WqPq6qD2HXz83HBni6QlVvVdUR4PPYeDNb0BDXsdigR02GgK+raoiNrLYPdpEwwFLsgti7G/uLjf33ASd07ivOLpwIdz/W62ZHgMEKrxUPuzD4vS3hKB4GekUks9WxezSObw2AtLZpX1UNNvzGPOCfscGoLsEuxP1CyzlDwN5tfq9ZixPh7sdEPHHrga+oakZVM0A/cJyq1rY6LtH4Ky379mu+EZE0dgX9s9ju7rdU9XBs63kGNnBxs05msl/k+YIToWN7XAm8VUQObQSU+ldsvJmt2YANgDTYsm9QRN7TaDU/Bzyqqo9jgyn/Q8OeAilsWEUa5z83PV9l5uNE6NgGVb0fG8P0F9hWcSE2OvfWx0XAHdiw8E0ew7Z6m7DxO89q7P87bOj+57ABk76hqrc3PjscuJ3dFDdO6GgLEfk40K+qnxWRU4BLVHXJJG3cCrxXVR+YhirOeFxL6GiXfwdeJyKJnR65HUTkhcCm3VWA4EToaJPGEMa/AW+doom/xkb63m1x3VGHo8u4ltDh6DJOhA5Hl3EidDi6jBOhw9FlnAgdji7jROhwdBknQoejyzgROhxdxonQ4egyToQOR5dxInQ4uowTocPRZZwIHY4u8/8DR3AytAb+gGAAAAAASUVORK5CYII=\n",
      "text/plain": [
       "<Figure size 72x72 with 1 Axes>"
      ]
     },
     "metadata": {
      "image/png": {
       "height": 111,
       "width": 112
      },
      "needs_background": "light"
     },
     "output_type": "display_data"
    }
   ],
   "source": [
    "fig, axes = plt.subplots(nrows = 1, ncols = 1, figsize=(1., 1.))\n",
    "a = axes\n",
    "\n",
    "a.fill_between(diff_O_molecule.dt, \n",
    "               diff_O_molecule.msd+diff_O_molecule.msd_std, \n",
    "               diff_O_molecule.msd-diff_O_molecule.msd_std, color = 'tab:red', alpha=0.1)\n",
    "a.plot(diff_O_molecule.dt, diff_O_molecule.msd, color = 'tab:red', alpha = 0.9, label = 'O$_2$')\n",
    "\n",
    "a.fill_between(diff_Li.dt, \n",
    "               diff_Li.msd+diff_Li.msd_std, \n",
    "               diff_Li.msd-diff_Li.msd_std, color = 'tab:green', alpha=0.1)\n",
    "a.plot(diff_Li.dt, diff_Li.msd, color = 'tab:green', alpha = 0.9, label = 'Li')\n",
    "\n",
    "a.fill_between(diff_O_ion.dt, \n",
    "               diff_O_ion.msd+diff_O_ion.msd_std, \n",
    "               diff_O_ion.msd-diff_O_ion.msd_std, color = 'tab:orange', alpha=0.1)\n",
    "a.plot(diff_O_ion.dt, diff_O_ion.msd, color = 'tab:orange', alpha = 0.9, label = 'O$^{2–}$')\n",
    "\n",
    "a.set_ylabel('MSD / Å$^2$')\n",
    "a.set_xlabel('Time (ps)')\n",
    "a.set_yticks([0,5,10,15,20])\n",
    "a.set_xticks([0,500,1000,1500,2000,2500,3000])\n",
    "a.set_xticklabels(['0','10','20','30','40','50','60'])\n",
    "a.set_ylim([-2,20])\n",
    "\n",
    "fig.subplots_adjust(bottom=0.0, top=1.0, left=0.0, right=1,\n",
    "                    wspace=0.00, hspace=0.05)\n",
    "\n",
    "#plt.savefig('Fig_4c_diffusion.svg', dpi=300, bbox_inches='tight', format='png')\n"
   ]
  },
  {
   "cell_type": "code",
   "execution_count": 16,
   "metadata": {},
   "outputs": [
    {
     "name": "stderr",
     "output_type": "stream",
     "text": [
      "/Users/km2083/opt/anaconda3/envs/kinisi/lib/python3.10/site-packages/scipy/optimize/_minpack_py.py:906: OptimizeWarning: Covariance of the parameters could not be estimated\n",
      "  warnings.warn('Covariance of the parameters could not be estimated',\n",
      "/Users/km2083/opt/anaconda3/envs/kinisi/lib/python3.10/site-packages/kinisi/matrix.py:25: UserWarning: The estimated covariance matrix was not positive definite, the nearest positive definite matrix has been found and will be used.\n",
      "  warnings.warn(\"The estimated covariance matrix was not positive definite, the nearest positive \"\n",
      "/Users/km2083/opt/anaconda3/envs/kinisi/lib/python3.10/site-packages/scipy/optimize/_numdiff.py:576: RuntimeWarning: invalid value encountered in subtract\n",
      "  df = fun(x) - f0\n",
      "Likelihood Sampling: 100%|████████████████████████████████████████████████████████████████████████████████████████████████████████████████████████████████████████████████████████████████████████████████████████████████████| 1500/1500 [00:01<00:00, 1108.68it/s]\n",
      "/Users/km2083/opt/anaconda3/envs/kinisi/lib/python3.10/site-packages/scipy/optimize/_minpack_py.py:906: OptimizeWarning: Covariance of the parameters could not be estimated\n",
      "  warnings.warn('Covariance of the parameters could not be estimated',\n",
      "/Users/km2083/opt/anaconda3/envs/kinisi/lib/python3.10/site-packages/kinisi/matrix.py:25: UserWarning: The estimated covariance matrix was not positive definite, the nearest positive definite matrix has been found and will be used.\n",
      "  warnings.warn(\"The estimated covariance matrix was not positive definite, the nearest positive \"\n",
      "/Users/km2083/opt/anaconda3/envs/kinisi/lib/python3.10/site-packages/scipy/optimize/_numdiff.py:576: RuntimeWarning: invalid value encountered in subtract\n",
      "  df = fun(x) - f0\n",
      "Likelihood Sampling: 100%|████████████████████████████████████████████████████████████████████████████████████████████████████████████████████████████████████████████████████████████████████████████████████████████████████| 1500/1500 [00:01<00:00, 1139.89it/s]\n"
     ]
    },
    {
     "name": "stdout",
     "output_type": "stream",
     "text": [
      "The O2 molecule diffusion coefficient is: 1.015595723360284e-07 cm^2 s^–1\n",
      "The Li+ ions diffusion coefficient is: 7.594131634858762e-08 cm^2 s^–1\n"
     ]
    }
   ],
   "source": [
    "# Calculate the diffusion coefficients for the O2 molecules and the Li+ ions. \n",
    "\n",
    "d_params = {'use_ngp': True}\n",
    "diff_O_molecule.diffusion(d_params)\n",
    "diff_Li.diffusion(d_params)\n",
    "\n",
    "print('The O2 molecule diffusion coefficient is:', diff_O_molecule.D.n, 'cm^2 s^–1')\n",
    "print('The Li+ ions diffusion coefficient is:', diff_Li.D.n, 'cm^2 s^–1')"
   ]
  },
  {
   "cell_type": "code",
   "execution_count": null,
   "metadata": {},
   "outputs": [],
   "source": []
  },
  {
   "cell_type": "code",
   "execution_count": null,
   "metadata": {},
   "outputs": [],
   "source": []
  }
 ],
 "metadata": {
  "kernelspec": {
   "display_name": "Python 3",
   "language": "python",
   "name": "python3"
  },
  "language_info": {
   "codemirror_mode": {
    "name": "ipython",
    "version": 3
   },
   "file_extension": ".py",
   "mimetype": "text/x-python",
   "name": "python",
   "nbconvert_exporter": "python",
   "pygments_lexer": "ipython3",
   "version": "3.7.4"
  }
 },
 "nbformat": 4,
 "nbformat_minor": 5
}
