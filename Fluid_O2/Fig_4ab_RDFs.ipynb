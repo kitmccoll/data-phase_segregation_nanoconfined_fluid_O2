{
 "cells": [
  {
   "cell_type": "code",
   "execution_count": 6,
   "metadata": {},
   "outputs": [],
   "source": [
    "# import plotting tools & formatting. \n",
    "import matplotlib.pyplot as plt\n",
    "import matplotlib.style as style\n",
    "%matplotlib inline\n",
    "%config InlineBackend.figure_format = 'retina'\n",
    "plt.rcParams[\"font.family\"] = \"Helvetica\"\n",
    "plt.rcParams[\"mathtext.fontset\"] ='custom'\n",
    "plt.rcParams['mathtext.rm'] = 'Helvetica'\n",
    "plt.rcParams['mathtext.it'] = 'Helvetica:italic'\n",
    "plt.rcParams['mathtext.bf'] = 'Helvetica'\n",
    "plt.rcParams[\"font.size\"] = \"6\"\n",
    "plt.rcParams['axes.linewidth'] = 0.65\n",
    "plt.rcParams['lines.linewidth'] = 0.65\n",
    "plt.rcParams['lines.markersize'] = 2.5\n",
    "\n",
    "# import packages\n",
    "from pymatgen import Structure\n",
    "from pymatgen.core import trajectory\n",
    "from pymatgen.io.vasp import Xdatcar\n",
    "from vasppy.rdf import RadialDistributionFunction # (https://github.com/bjmorgan/vasppy)\n"
   ]
  },
  {
   "cell_type": "code",
   "execution_count": null,
   "metadata": {},
   "outputs": [],
   "source": [
    "xd_cathode = Xdatcar('../Data/Data_fluid_O2/Cathode_Li0.2Mn0.8O2/XDATCAR_N_subbed')\n",
    "xd_liquid_O2 = Xdatcar('../Data/Data_fluid_O2/Liquid_O2/XDATCAR_liquid_O2')"
   ]
  },
  {
   "cell_type": "code",
   "execution_count": null,
   "metadata": {},
   "outputs": [],
   "source": [
    "# To distinguish between O ions in the lattice and O atoms in O2 molecules, the O atoms \n",
    "# in O2 molecules have been substituted for 'N' atoms in the XDATCAR (XDATCAR_N_subbed) which\n",
    "# is used for this analysis. Hence, when we compute the RDF from Mn to O2 moleculec, \n",
    "# we references 'N' species, and likewise, the O2–O2 RDF references 'N'\n",
    "\n",
    "rdf_Mn_O_xd_cathode = RadialDistributionFunction.from_species_strings(structures=xd_cathode.structures,\n",
    "                                                                species_i='Mn',species_j='O')\n",
    "rdf_Mn_O2_xd_cathode = RadialDistributionFunction.from_species_strings(structures=xd_cathode.structures,\n",
    "                                                                species_i='Mn',species_j='N')\n",
    "rdf_O2_O2_xd_cathode = RadialDistributionFunction.from_species_strings(structures=xd_cathode.structures,\n",
    "                                                                species_i='N',species_j='N')"
   ]
  },
  {
   "cell_type": "code",
   "execution_count": null,
   "metadata": {},
   "outputs": [],
   "source": [
    "# All O atoms in the box of liquid O2 are labelled 'O'\n",
    "rdf_O_O_liquid = RadialDistributionFunction.from_species_strings(structures=xd_liquid_O2.structures,\n",
    "                                                                species_i='O')"
   ]
  },
  {
   "cell_type": "code",
   "execution_count": 7,
   "metadata": {},
   "outputs": [
    {
     "data": {
      "image/png": "[encoded data removed]",
      "text/plain": [
       "<Figure size 180x72 with 2 Axes>"
      ]
     },
     "metadata": {
      "image/png": {
       "height": 111,
       "width": 214
      },
      "needs_background": "light"
     },
     "output_type": "display_data"
    }
   ],
   "source": [
    "fig, axes = plt.subplots(nrows = 1, ncols = 2, figsize=(2.5, 1.))\n",
    "a = axes[0]\n",
    "b = axes[1]\n",
    "\n",
    "x1 = [-10,20]\n",
    "y1 = [0,0]\n",
    "\n",
    "a.plot(x1,y1,'--',color = 'k', alpha = 0.25)\n",
    "\n",
    "a.plot(rdf_Mn_O_xd_cathode.r, rdf_Mn_O_xd_cathode.smeared_rdf(), \n",
    "       label='Mn$\\cdots$O$^{2–}$', color = 'black')\n",
    "a.fill_between(rdf_Mn_O_xd_cathode.r, rdf_Mn_O_xd_cathode.smeared_rdf(),0,  \n",
    "               color = 'black', alpha = 0.05)\n",
    "\n",
    "a.plot(rdf_Mn_O2_xd_cathode.r, rdf_Mn_O2_xd_cathode.smeared_rdf(), \n",
    "       label=r'Mn$\\cdots$$O_2$', color = 'tab:red')\n",
    "a.fill_between(rdf_Mn_O2_xd_cathode.r, rdf_Mn_O2_xd_cathode.smeared_rdf(),0,  \n",
    "               color = 'tab:red', alpha = 0.1)\n",
    "\n",
    "a.set_xlim(0.5,5.5)\n",
    "a.set_ylim(-0.9,9)\n",
    "a.set_ylabel('RDF')\n",
    "a.set_xlabel('R (Å)')\n",
    "\n",
    "\n",
    "b.plot(x1,y1,'--',color = 'k', alpha = 0.25)\n",
    "\n",
    "b.plot(rdf_O_O_liquid.r, rdf_O_O_liquid.smeared_rdf(),  color = 'black')\n",
    "b.fill_between(rdf_O_O_liquid.r, rdf_O_O_liquid.smeared_rdf(),0,\n",
    "               color = 'black', alpha = 0.1)\n",
    "\n",
    "b.plot(rdf_O2_O2_xd_cathode.r, rdf_O2_O2_xd_cathode.smeared_rdf(),  color = 'tab:red')\n",
    "b.fill_between(rdf_O2_O2_xd_cathode.r, rdf_O2_O2_xd_cathode.smeared_rdf(),0,\n",
    "               color = 'tab:red', alpha = 0.1)\n",
    "\n",
    "b.set_xlim(0.5,5.5)\n",
    "b.set_ylim(-1.4,14)\n",
    "b.set_xlabel('R (Å)')\n",
    "b.set_ylabel('RDF')\n",
    "\n",
    "fig.subplots_adjust(bottom=0.0, top=1.0, left=0.0, right=1,\n",
    "                    wspace=0.55, hspace=0.0)\n",
    "\n",
    "#plt.savefig('Fig_4ab_RDFs.svg', dpi=300, bbox_inches='tight', format='svg')\n",
    "\n",
    "plt.show()"
   ]
  },
  {
   "cell_type": "code",
   "execution_count": null,
   "metadata": {},
   "outputs": [],
   "source": []
  }
 ],
 "metadata": {
  "kernelspec": {
   "display_name": "Python 3",
   "language": "python",
   "name": "python3"
  },
  "language_info": {
   "codemirror_mode": {
    "name": "ipython",
    "version": 3
   },
   "file_extension": ".py",
   "mimetype": "text/x-python",
   "name": "python",
   "nbconvert_exporter": "python",
   "pygments_lexer": "ipython3",
   "version": "3.7.4"
  }
 },
 "nbformat": 4,
 "nbformat_minor": 5
}
