{
 "cells": [
  {
   "cell_type": "code",
   "execution_count": 5,
   "metadata": {},
   "outputs": [],
   "source": [
    "# import plotting tools & formatting. \n",
    "\n",
    "import matplotlib.pyplot as plt\n",
    "import matplotlib.style as style\n",
    "%matplotlib inline\n",
    "%config InlineBackend.figure_format = 'retina'\n",
    "plt.rcParams[\"font.family\"] = \"Helvetica\"\n",
    "plt.rcParams[\"mathtext.fontset\"] ='custom'\n",
    "plt.rcParams['mathtext.rm'] = 'Helvetica'\n",
    "plt.rcParams['mathtext.it'] = 'Helvetica:italic'\n",
    "plt.rcParams['mathtext.bf'] = 'Helvetica'\n",
    "plt.rcParams[\"font.size\"] = \"6\"\n",
    "plt.rcParams['axes.linewidth'] = 0.65\n",
    "plt.rcParams['lines.linewidth'] = 0.65\n",
    "plt.rcParams['lines.markersize'] = 2.5\n",
    "\n",
    "import numpy as np\n",
    "from numpy import genfromtxt\n",
    "\n",
    "import json\n",
    "import ase\n"
   ]
  },
  {
   "cell_type": "code",
   "execution_count": 6,
   "metadata": {},
   "outputs": [
    {
     "name": "stdout",
     "output_type": "stream",
     "text": [
      "now we have: 9 structures & energies\n"
     ]
    }
   ],
   "source": [
    "structures = []\n",
    "energies = []\n",
    "\n",
    "def get_json_data(filename):\n",
    "\n",
    "    with open(f'../Data/Data_kinetics/{filename}.json') as data:\n",
    "            cluster_data = json.load(data)\n",
    "    for n, calculation in enumerate(cluster_data['calculation_results']):\n",
    "        atoms = ase.Atoms(numbers=calculation['structure']['numbers'],\n",
    "                          positions=calculation['structure']['positions'],\n",
    "                          pbc=calculation['structure']['pbc'],\n",
    "                          cell=calculation['structure']['cell'])\n",
    "        numbers = atoms.numbers\n",
    "        energy = float(calculation['energy'])\n",
    "        energies.append(energy)\n",
    "        structures.append(atoms)\n",
    "    print('now we have:',len(structures),'structures & energies')\n",
    "    \n",
    "get_json_data('LLMO_HSE_AIMD_900K')"
   ]
  },
  {
   "cell_type": "code",
   "execution_count": 7,
   "metadata": {},
   "outputs": [],
   "source": [
    "# structure I is calculated in a (1x1x1) expansion of the conventional unit cell (80 atoms), \n",
    "# so we need to double the energy to then calculate a relative energy in eV, per 160-atom\n",
    "# unit cell\n",
    "energies[0] = energies[0]*2\n",
    "rel_e = [e - (energies[0]) for e in energies]\n",
    "\n",
    "# list of times (in ps) where the structures were extracted from the complete AIMD trajectory\n",
    "times = [0, 39.45, 55.09, 90.27, 140.18, 144.62, 204.74, 351.07, 378.32]\n",
    "\n",
    "# these are the indicies of the 'key structures' (structures, I, II,III and IV in \n",
    "# Figure 2b,c) that are highlighted in red in Figure 2d\n",
    "key_structures = [0,3,6,8]"
   ]
  },
  {
   "cell_type": "code",
   "execution_count": 8,
   "metadata": {},
   "outputs": [
    {
     "data": {
      "image/png": "[encoded data removed]",
      "text/plain": [
       "<Figure size 72x72 with 1 Axes>"
      ]
     },
     "metadata": {
      "image/png": {
       "height": 109,
       "width": 113
      },
      "needs_background": "light"
     },
     "output_type": "display_data"
    }
   ],
   "source": [
    "fig, axes = plt.subplots(nrows = 1, ncols = 1, figsize=(1, 1))\n",
    "\n",
    "a = axes#\n",
    "\n",
    "a.plot(times[:],rel_e[:],'o',color= 'black', alpha = 0.15)\n",
    "\n",
    "for n in key_structures:\n",
    "    a.plot(times[n],rel_e[n],'o',markersize = 3,color= 'crimson', alpha = 0.99)\n",
    "\n",
    "a.set_ylabel('Energy (eV)')\n",
    "a.set_ylim([-14.5, 4])\n",
    "a.set_xlim([-50, 450])\n",
    "\n",
    "a.set_xlabel('Time (ps)')\n",
    "\n",
    "fig.subplots_adjust(bottom=0.0, top=1.0, left=0.0, right=1,\n",
    "                    wspace=0.0, hspace=0.0)\n",
    "\n",
    "#plt.savefig('test.png', dpi=300, bbox_inches='tight', format='png')\n",
    "#plt.savefig('test.svg', dpi=300, bbox_inches='tight', format='svg')"
   ]
  },
  {
   "cell_type": "code",
   "execution_count": null,
   "metadata": {},
   "outputs": [],
   "source": []
  }
 ],
 "metadata": {
  "kernelspec": {
   "display_name": "Python 3",
   "language": "python",
   "name": "python3"
  },
  "language_info": {
   "codemirror_mode": {
    "name": "ipython",
    "version": 3
   },
   "file_extension": ".py",
   "mimetype": "text/x-python",
   "name": "python",
   "nbconvert_exporter": "python",
   "pygments_lexer": "ipython3",
   "version": "3.7.4"
  }
 },
 "nbformat": 4,
 "nbformat_minor": 2
}
